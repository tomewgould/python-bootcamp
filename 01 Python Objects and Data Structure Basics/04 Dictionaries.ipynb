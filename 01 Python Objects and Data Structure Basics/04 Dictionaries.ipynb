{
 "cells": [
  {
   "cell_type": "markdown",
   "id": "6c033575-218e-46b2-873b-5125f30289b2",
   "metadata": {},
   "source": [
    "# Dictionaries\n",
    "\n",
    "Unordered mappings for storing objects. While lists store objects in an ordered sequence, dictionaries use a key-value pairing instead\n",
    "\n",
    "This key-value pair allows users to quickly grab objects without needing to know an index location\n",
    "\n",
    "Dictionaries use curly brackets and colons to signify the kety and their associated values\n",
    "\n",
    "**{'key1':'value1','key2':'value2'}**\n",
    "\n",
    "**Lists vs Dictionaries**\n",
    "\n",
    "**Dictionaries**\n",
    "\n",
    "Objects retrieved by key name\n",
    "\n",
    "Unordered and can not be sorted\n",
    "\n",
    "**Lists**\n",
    "\n",
    "Objects retrieved by location\n",
    "\n",
    "Ordered sequence can be indexed or sliced\n",
    "\n"
   ]
  },
  {
   "cell_type": "code",
   "execution_count": 38,
   "id": "3b3cbf86-7919-43ee-a09a-5c2878483111",
   "metadata": {},
   "outputs": [],
   "source": [
    "my_dict = {'key1':'value1','key2':'value2'}"
   ]
  },
  {
   "cell_type": "code",
   "execution_count": 39,
   "id": "770e48b5-7228-4021-8b75-f4e873a2f8b1",
   "metadata": {},
   "outputs": [
    {
     "data": {
      "text/plain": [
       "{'key1': 'value1', 'key2': 'value2'}"
      ]
     },
     "execution_count": 39,
     "metadata": {},
     "output_type": "execute_result"
    }
   ],
   "source": [
    "my_dict"
   ]
  },
  {
   "cell_type": "code",
   "execution_count": 42,
   "id": "ab588d91-8338-4e17-9583-ab6bb9acd754",
   "metadata": {},
   "outputs": [
    {
     "data": {
      "text/plain": [
       "'value1'"
      ]
     },
     "execution_count": 42,
     "metadata": {},
     "output_type": "execute_result"
    }
   ],
   "source": [
    "my_dict['key1'] # Call a key to return its value"
   ]
  },
  {
   "cell_type": "code",
   "execution_count": 43,
   "id": "6b1c5aa6-2332-4cd9-a0ae-46ada7d84324",
   "metadata": {},
   "outputs": [],
   "source": [
    "prices_lookup = {'cheese':4.50,'grapes':10,'crisps':2.99}"
   ]
  },
  {
   "cell_type": "code",
   "execution_count": 45,
   "id": "4907f653-ea99-4c0c-bdc7-225557f6b2ef",
   "metadata": {},
   "outputs": [
    {
     "data": {
      "text/plain": [
       "10"
      ]
     },
     "execution_count": 45,
     "metadata": {},
     "output_type": "execute_result"
    }
   ],
   "source": [
    "prices_lookup['grapes']"
   ]
  },
  {
   "cell_type": "code",
   "execution_count": 46,
   "id": "643c62a1-84fe-4a87-ab26-9c236688e5b1",
   "metadata": {},
   "outputs": [],
   "source": [
    "d = {'k1':123,'k2':[1,2,3],'k3':{'nestedkey':100}}"
   ]
  },
  {
   "cell_type": "code",
   "execution_count": 47,
   "id": "b2f1deae-44ef-48bc-86a7-55bf17a8722f",
   "metadata": {},
   "outputs": [
    {
     "data": {
      "text/plain": [
       "[1, 2, 3]"
      ]
     },
     "execution_count": 47,
     "metadata": {},
     "output_type": "execute_result"
    }
   ],
   "source": [
    "d['k2']"
   ]
  },
  {
   "cell_type": "code",
   "execution_count": 53,
   "id": "359e8073-e2ec-48b5-a90b-489dab816b13",
   "metadata": {},
   "outputs": [
    {
     "data": {
      "text/plain": [
       "100"
      ]
     },
     "execution_count": 53,
     "metadata": {},
     "output_type": "execute_result"
    }
   ],
   "source": [
    "d['k3']['nestedkey'] # Return values from nested dictionaries"
   ]
  },
  {
   "cell_type": "code",
   "execution_count": 52,
   "id": "cc3e1cc7-e7a6-4b36-bd1c-3433732c2083",
   "metadata": {},
   "outputs": [
    {
     "data": {
      "text/plain": [
       "2"
      ]
     },
     "execution_count": 52,
     "metadata": {},
     "output_type": "execute_result"
    }
   ],
   "source": [
    "d['k2'][1] # Return values from lists nested within dictionaries"
   ]
  },
  {
   "cell_type": "code",
   "execution_count": 54,
   "id": "e01040ba-10f1-464e-9e40-20795ca36fae",
   "metadata": {},
   "outputs": [],
   "source": [
    "d = {'key1':['a','b','c']}"
   ]
  },
  {
   "cell_type": "code",
   "execution_count": 55,
   "id": "25835e3d-29eb-4def-8503-f0c0b55f8b72",
   "metadata": {},
   "outputs": [
    {
     "data": {
      "text/plain": [
       "{'key1': ['a', 'b', 'c']}"
      ]
     },
     "execution_count": 55,
     "metadata": {},
     "output_type": "execute_result"
    }
   ],
   "source": [
    "d"
   ]
  },
  {
   "cell_type": "code",
   "execution_count": 57,
   "id": "43827172-fcd9-4c6c-818a-3e251cddb094",
   "metadata": {},
   "outputs": [
    {
     "data": {
      "text/plain": [
       "'C'"
      ]
     },
     "execution_count": 57,
     "metadata": {},
     "output_type": "execute_result"
    }
   ],
   "source": [
    "d['key1'][2].upper() \n",
    "# Return the value from the dictionary d\n",
    "# Return element 2\n",
    "# Change to upper case"
   ]
  },
  {
   "cell_type": "code",
   "execution_count": 58,
   "id": "c5eba040-1d23-4e19-bc19-f2712a8d30c8",
   "metadata": {},
   "outputs": [],
   "source": [
    "d = {'k1':100,'k2':200} # Add new key-value pairs to a dictionary"
   ]
  },
  {
   "cell_type": "code",
   "execution_count": 59,
   "id": "0eba1a1b-85be-4dc5-8908-af2bd75e3cd5",
   "metadata": {},
   "outputs": [
    {
     "data": {
      "text/plain": [
       "{'k1': 100, 'k2': 200}"
      ]
     },
     "execution_count": 59,
     "metadata": {},
     "output_type": "execute_result"
    }
   ],
   "source": [
    "d"
   ]
  },
  {
   "cell_type": "code",
   "execution_count": 60,
   "id": "e1cc0d30-8bb4-485b-9977-563567da2931",
   "metadata": {},
   "outputs": [],
   "source": [
    "d['k3'] = 300"
   ]
  },
  {
   "cell_type": "code",
   "execution_count": 61,
   "id": "99b041b5-3743-49e5-b62c-76a5b1d5df37",
   "metadata": {},
   "outputs": [
    {
     "data": {
      "text/plain": [
       "{'k1': 100, 'k2': 200, 'k3': 300}"
      ]
     },
     "execution_count": 61,
     "metadata": {},
     "output_type": "execute_result"
    }
   ],
   "source": [
    "d"
   ]
  },
  {
   "cell_type": "code",
   "execution_count": 62,
   "id": "70383d6a-3046-40d7-ad57-c19576a4baee",
   "metadata": {},
   "outputs": [],
   "source": [
    "d['k1'] = 'NEW VALUE' # Overwrite existing key pair"
   ]
  },
  {
   "cell_type": "code",
   "execution_count": 63,
   "id": "b464c967-0056-4636-a640-f96db21d07e3",
   "metadata": {},
   "outputs": [
    {
     "data": {
      "text/plain": [
       "{'k1': 'NEW VALUE', 'k2': 200, 'k3': 300}"
      ]
     },
     "execution_count": 63,
     "metadata": {},
     "output_type": "execute_result"
    }
   ],
   "source": [
    "d"
   ]
  },
  {
   "cell_type": "code",
   "execution_count": 64,
   "id": "807a718a-519e-47d9-922e-e91a69599042",
   "metadata": {},
   "outputs": [],
   "source": [
    "d = {'k1': 100, 'k2': 200, 'k3': 300}"
   ]
  },
  {
   "cell_type": "code",
   "execution_count": 68,
   "id": "259ffa67-0902-404e-882d-86f76e21c93f",
   "metadata": {},
   "outputs": [
    {
     "data": {
      "text/plain": [
       "dict_keys(['k1', 'k2', 'k3'])"
      ]
     },
     "execution_count": 68,
     "metadata": {},
     "output_type": "execute_result"
    }
   ],
   "source": [
    "d.keys() # Return keys"
   ]
  },
  {
   "cell_type": "code",
   "execution_count": 69,
   "id": "17ae9670-3a08-44bb-bf0e-ac0719998931",
   "metadata": {},
   "outputs": [
    {
     "data": {
      "text/plain": [
       "dict_values([100, 200, 300])"
      ]
     },
     "execution_count": 69,
     "metadata": {},
     "output_type": "execute_result"
    }
   ],
   "source": [
    "d.values() # Return values"
   ]
  },
  {
   "cell_type": "code",
   "execution_count": 70,
   "id": "1626ed9d-1f7b-477c-a71d-417ff3e9217c",
   "metadata": {},
   "outputs": [
    {
     "data": {
      "text/plain": [
       "dict_items([('k1', 100), ('k2', 200), ('k3', 300)])"
      ]
     },
     "execution_count": 70,
     "metadata": {},
     "output_type": "execute_result"
    }
   ],
   "source": [
    "d.items() # Return pairs"
   ]
  },
  {
   "cell_type": "code",
   "execution_count": null,
   "id": "8701db1e-99a5-4945-b1c0-cde8134738af",
   "metadata": {},
   "outputs": [],
   "source": []
  }
 ],
 "metadata": {
  "kernelspec": {
   "display_name": "Python 3 (ipykernel)",
   "language": "python",
   "name": "python3"
  },
  "language_info": {
   "codemirror_mode": {
    "name": "ipython",
    "version": 3
   },
   "file_extension": ".py",
   "mimetype": "text/x-python",
   "name": "python",
   "nbconvert_exporter": "python",
   "pygments_lexer": "ipython3",
   "version": "3.12.7"
  }
 },
 "nbformat": 4,
 "nbformat_minor": 5
}
