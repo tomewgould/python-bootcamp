{
 "cells": [
  {
   "cell_type": "markdown",
   "id": "a924a3a9-00f0-4440-910b-497ed1e933b4",
   "metadata": {},
   "source": [
    "# Lists\n",
    "\n",
    "Lists are ordered sequences that can hold a variety of object types\n",
    "\n",
    "They use [] brackets and commas to separate objects in the list\n",
    "\n",
    "**[1,2,3,4,5]**\n",
    "\n",
    "Lists support indexing and slicing\n",
    "\n",
    "Lists can be nested and also have a variety of useful methods that can be called off of them"
   ]
  },
  {
   "cell_type": "code",
   "execution_count": 1,
   "id": "92784751-ac3f-472a-b9b4-705ce9b25451",
   "metadata": {},
   "outputs": [],
   "source": [
    "my_list = [1,2,3] # Basic list"
   ]
  },
  {
   "cell_type": "code",
   "execution_count": 6,
   "id": "16de4d17-29a1-4a5a-80fe-8608166af2c5",
   "metadata": {},
   "outputs": [],
   "source": [
    "my_list = ['string',100,43.5] # Lists can include different data types"
   ]
  },
  {
   "cell_type": "code",
   "execution_count": 3,
   "id": "49f106e8-5b6c-4187-8eeb-bce46e49de72",
   "metadata": {},
   "outputs": [
    {
     "data": {
      "text/plain": [
       "3"
      ]
     },
     "execution_count": 3,
     "metadata": {},
     "output_type": "execute_result"
    }
   ],
   "source": [
    "len(my_list)"
   ]
  },
  {
   "cell_type": "code",
   "execution_count": 10,
   "id": "a5355941-f951-4380-be16-402698edf43d",
   "metadata": {},
   "outputs": [],
   "source": [
    "my_list = ['one','two','three']"
   ]
  },
  {
   "cell_type": "code",
   "execution_count": 7,
   "id": "a83f0e73-dfbf-496d-8a0e-66c6a9dc328c",
   "metadata": {},
   "outputs": [
    {
     "data": {
      "text/plain": [
       "'string'"
      ]
     },
     "execution_count": 7,
     "metadata": {},
     "output_type": "execute_result"
    }
   ],
   "source": [
    "my_list[0] # Indexing like with strings"
   ]
  },
  {
   "cell_type": "code",
   "execution_count": 8,
   "id": "2d834bd4-0b98-4a75-835a-0f895be92544",
   "metadata": {},
   "outputs": [],
   "source": [
    "another_list = ['four','five']"
   ]
  },
  {
   "cell_type": "code",
   "execution_count": 11,
   "id": "76e8b285-3e72-449f-a7bf-01cae8d01c66",
   "metadata": {},
   "outputs": [
    {
     "data": {
      "text/plain": [
       "['one', 'two', 'three', 'four', 'five']"
      ]
     },
     "execution_count": 11,
     "metadata": {},
     "output_type": "execute_result"
    }
   ],
   "source": [
    "my_list + another_list # Concatenate lists"
   ]
  },
  {
   "cell_type": "code",
   "execution_count": 12,
   "id": "7ee0aacc-0413-4477-9023-55920425c425",
   "metadata": {},
   "outputs": [],
   "source": [
    "new_list = my_list + another_list"
   ]
  },
  {
   "cell_type": "code",
   "execution_count": 13,
   "id": "018ff8b7-4214-4931-849d-091d57233399",
   "metadata": {},
   "outputs": [
    {
     "data": {
      "text/plain": [
       "['one', 'two', 'three', 'four', 'five']"
      ]
     },
     "execution_count": 13,
     "metadata": {},
     "output_type": "execute_result"
    }
   ],
   "source": [
    "new_list"
   ]
  },
  {
   "cell_type": "code",
   "execution_count": 16,
   "id": "e2554341-ac9f-4797-84fa-12413a8a265a",
   "metadata": {},
   "outputs": [],
   "source": [
    "new_list[0] = 'ONE' # Mutate elements within a list"
   ]
  },
  {
   "cell_type": "code",
   "execution_count": 15,
   "id": "64bbbd1b-0488-4886-961b-b2a21b4a2442",
   "metadata": {},
   "outputs": [
    {
     "data": {
      "text/plain": [
       "['ONE', 'two', 'three', 'four', 'five']"
      ]
     },
     "execution_count": 15,
     "metadata": {},
     "output_type": "execute_result"
    }
   ],
   "source": [
    "new_list"
   ]
  },
  {
   "cell_type": "code",
   "execution_count": 17,
   "id": "ca09cd4d-3eed-430b-88de-416001481366",
   "metadata": {},
   "outputs": [],
   "source": [
    "new_list.append('six')"
   ]
  },
  {
   "cell_type": "code",
   "execution_count": 18,
   "id": "f3e44391-1993-4174-93e0-40c21fd23340",
   "metadata": {},
   "outputs": [
    {
     "data": {
      "text/plain": [
       "['ONE', 'two', 'three', 'four', 'five', 'six']"
      ]
     },
     "execution_count": 18,
     "metadata": {},
     "output_type": "execute_result"
    }
   ],
   "source": [
    "new_list"
   ]
  },
  {
   "cell_type": "code",
   "execution_count": 19,
   "id": "1ccc1429-557a-4990-ac41-5c7b4f2a7d83",
   "metadata": {},
   "outputs": [
    {
     "data": {
      "text/plain": [
       "'six'"
      ]
     },
     "execution_count": 19,
     "metadata": {},
     "output_type": "execute_result"
    }
   ],
   "source": [
    "new_list.pop() # Removes the last element in a list and returns it"
   ]
  },
  {
   "cell_type": "code",
   "execution_count": 20,
   "id": "d9d8bfba-6869-4e7d-8b8c-97c3f0d4f518",
   "metadata": {},
   "outputs": [
    {
     "data": {
      "text/plain": [
       "['ONE', 'two', 'three', 'four', 'five']"
      ]
     },
     "execution_count": 20,
     "metadata": {},
     "output_type": "execute_result"
    }
   ],
   "source": [
    "new_list # six has been 'popped'"
   ]
  },
  {
   "cell_type": "code",
   "execution_count": 21,
   "id": "b45cbc82-175a-41c1-b964-72e9114936e4",
   "metadata": {},
   "outputs": [],
   "source": [
    "popped_item = new_list.pop()"
   ]
  },
  {
   "cell_type": "code",
   "execution_count": 22,
   "id": "68c9d841-8467-48b1-889d-0e09032f61aa",
   "metadata": {},
   "outputs": [
    {
     "data": {
      "text/plain": [
       "'five'"
      ]
     },
     "execution_count": 22,
     "metadata": {},
     "output_type": "execute_result"
    }
   ],
   "source": [
    "popped_item"
   ]
  },
  {
   "cell_type": "code",
   "execution_count": 31,
   "id": "86e26a39-5d1d-4f1c-8bb8-2808a862f897",
   "metadata": {},
   "outputs": [
    {
     "data": {
      "text/plain": [
       "'a'"
      ]
     },
     "execution_count": 31,
     "metadata": {},
     "output_type": "execute_result"
    }
   ],
   "source": [
    "new_list.pop(0) # Pass index position in .pop function"
   ]
  },
  {
   "cell_type": "code",
   "execution_count": 32,
   "id": "92f582f6-271f-41ca-b123-ca0de69dc29b",
   "metadata": {},
   "outputs": [
    {
     "data": {
      "text/plain": [
       "['b', 'r', 'x']"
      ]
     },
     "execution_count": 32,
     "metadata": {},
     "output_type": "execute_result"
    }
   ],
   "source": [
    "new_list"
   ]
  },
  {
   "cell_type": "markdown",
   "id": "f01d0aed-65d1-4d2d-9dd6-6149f50c2abf",
   "metadata": {},
   "source": [
    "**.sort() function**"
   ]
  },
  {
   "cell_type": "code",
   "execution_count": 25,
   "id": "77fe90eb-c1e4-4b50-a1bb-4cf0b5debb3c",
   "metadata": {},
   "outputs": [],
   "source": [
    "new_list = ['a','x','r','b']\n",
    "num_list = [2,6,1,9]"
   ]
  },
  {
   "cell_type": "code",
   "execution_count": 26,
   "id": "90150722-b5ef-49bd-8917-9dd3cf2b9800",
   "metadata": {},
   "outputs": [],
   "source": [
    "new_list.sort()"
   ]
  },
  {
   "cell_type": "code",
   "execution_count": 27,
   "id": "9601c8c1-6247-49d5-9c0a-de4818b71c6b",
   "metadata": {},
   "outputs": [
    {
     "data": {
      "text/plain": [
       "['a', 'b', 'r', 'x']"
      ]
     },
     "execution_count": 27,
     "metadata": {},
     "output_type": "execute_result"
    }
   ],
   "source": [
    "new_list"
   ]
  },
  {
   "cell_type": "code",
   "execution_count": 28,
   "id": "269a7145-f774-42c0-be64-007caf6d483c",
   "metadata": {},
   "outputs": [
    {
     "data": {
      "text/plain": [
       "[2, 6, 1, 9]"
      ]
     },
     "execution_count": 28,
     "metadata": {},
     "output_type": "execute_result"
    }
   ],
   "source": [
    "num_list"
   ]
  },
  {
   "cell_type": "code",
   "execution_count": 29,
   "id": "bb550e33-7e38-44f2-9987-516bee56fdcf",
   "metadata": {},
   "outputs": [],
   "source": [
    "num_list.sort()"
   ]
  },
  {
   "cell_type": "code",
   "execution_count": 30,
   "id": "9870af64-f6b5-4e69-adbd-cdb05b79778c",
   "metadata": {},
   "outputs": [
    {
     "data": {
      "text/plain": [
       "[1, 2, 6, 9]"
      ]
     },
     "execution_count": 30,
     "metadata": {},
     "output_type": "execute_result"
    }
   ],
   "source": [
    "num_list"
   ]
  },
  {
   "cell_type": "markdown",
   "id": "71179577-5b77-4648-98b1-cde4141fdbef",
   "metadata": {},
   "source": [
    "**.reverse() function**"
   ]
  },
  {
   "cell_type": "code",
   "execution_count": 33,
   "id": "2ca0097e-7307-420a-a63f-d456534c4643",
   "metadata": {},
   "outputs": [],
   "source": [
    "num_list.reverse()"
   ]
  },
  {
   "cell_type": "code",
   "execution_count": 34,
   "id": "05a5fa61-226c-4223-897e-a6819879f212",
   "metadata": {},
   "outputs": [
    {
     "data": {
      "text/plain": [
       "[9, 6, 2, 1]"
      ]
     },
     "execution_count": 34,
     "metadata": {},
     "output_type": "execute_result"
    }
   ],
   "source": [
    "num_list"
   ]
  },
  {
   "cell_type": "markdown",
   "id": "92e17da7-8af0-4ea4-9728-d3b33852ae45",
   "metadata": {},
   "source": [
    "**Indexing nested lists**"
   ]
  },
  {
   "cell_type": "code",
   "execution_count": 35,
   "id": "bb3f324c-3563-4ba2-8a17-994662dc65d4",
   "metadata": {},
   "outputs": [],
   "source": [
    "nested_list = [1,1,[1,2]]"
   ]
  },
  {
   "cell_type": "code",
   "execution_count": 37,
   "id": "39ddad8b-7a4a-4ebd-960f-87943c447fcd",
   "metadata": {},
   "outputs": [
    {
     "data": {
      "text/plain": [
       "1"
      ]
     },
     "execution_count": 37,
     "metadata": {},
     "output_type": "execute_result"
    }
   ],
   "source": [
    "nested_list[2][0] # Look within element 2, for element 0"
   ]
  },
  {
   "cell_type": "code",
   "execution_count": null,
   "id": "e7fc41aa-3adc-4a01-a755-281cafd8e772",
   "metadata": {},
   "outputs": [],
   "source": []
  }
 ],
 "metadata": {
  "kernelspec": {
   "display_name": "Python 3 (ipykernel)",
   "language": "python",
   "name": "python3"
  },
  "language_info": {
   "codemirror_mode": {
    "name": "ipython",
    "version": 3
   },
   "file_extension": ".py",
   "mimetype": "text/x-python",
   "name": "python",
   "nbconvert_exporter": "python",
   "pygments_lexer": "ipython3",
   "version": "3.12.7"
  }
 },
 "nbformat": 4,
 "nbformat_minor": 5
}
