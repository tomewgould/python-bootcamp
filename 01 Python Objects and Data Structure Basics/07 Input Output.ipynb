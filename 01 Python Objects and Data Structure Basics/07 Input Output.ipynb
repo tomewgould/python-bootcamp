{
 "cells": [
  {
   "cell_type": "markdown",
   "id": "5694bc32-a2b0-4e18-8205-3a060c2d644f",
   "metadata": {},
   "source": [
    "# Input / Output files"
   ]
  },
  {
   "cell_type": "code",
   "execution_count": 1,
   "id": "6627bd28-ac9e-4912-a1fd-1e9a5d30479f",
   "metadata": {},
   "outputs": [
    {
     "name": "stdout",
     "output_type": "stream",
     "text": [
      "Writing myfile.txt\n"
     ]
    }
   ],
   "source": [
    "%%writefile myfile.txt\n",
    "Hello this is a text file\n",
    "second line\n",
    "third line"
   ]
  },
  {
   "cell_type": "code",
   "execution_count": 5,
   "id": "5ad41c0a-ae9e-42ce-9040-57170e3074f7",
   "metadata": {},
   "outputs": [],
   "source": [
    "myfile = open('myfile.txt') # Will error if filename is spelt wrong or file is saved in different directory"
   ]
  },
  {
   "cell_type": "code",
   "execution_count": 4,
   "id": "87cc6976-3636-4607-9a7b-42f25c44a4f9",
   "metadata": {},
   "outputs": [
    {
     "data": {
      "text/plain": [
       "'C:\\\\Users\\\\ThomasGould\\\\Documents\\\\Python\\\\Python Object and Data Structure Basics'"
      ]
     },
     "execution_count": 4,
     "metadata": {},
     "output_type": "execute_result"
    }
   ],
   "source": [
    "pwd # Find working directory"
   ]
  },
  {
   "cell_type": "code",
   "execution_count": 10,
   "id": "7bf24ea8-6758-4386-9d92-c4c412a334f9",
   "metadata": {},
   "outputs": [],
   "source": [
    "myfile = open('myfile.txt')"
   ]
  },
  {
   "cell_type": "code",
   "execution_count": 11,
   "id": "a02e623f-d160-4cf9-bc17-318f763b02ed",
   "metadata": {},
   "outputs": [
    {
     "data": {
      "text/plain": [
       "'Hello this is a text file\\nsecond line\\nthird line\\n'"
      ]
     },
     "execution_count": 11,
     "metadata": {},
     "output_type": "execute_result"
    }
   ],
   "source": [
    "myfile.read() # Opens everything as a single string"
   ]
  },
  {
   "cell_type": "code",
   "execution_count": 12,
   "id": "c43f9f57-e1ce-49b9-be7e-1cb6e4847a7b",
   "metadata": {},
   "outputs": [
    {
     "data": {
      "text/plain": [
       "''"
      ]
     },
     "execution_count": 12,
     "metadata": {},
     "output_type": "execute_result"
    }
   ],
   "source": [
    "myfile.read()"
   ]
  },
  {
   "cell_type": "code",
   "execution_count": 16,
   "id": "9c5e05a7-06e4-4043-8a9c-f5af5b578acd",
   "metadata": {},
   "outputs": [
    {
     "data": {
      "text/plain": [
       "0"
      ]
     },
     "execution_count": 16,
     "metadata": {},
     "output_type": "execute_result"
    }
   ],
   "source": [
    "myfile.seek(0) # Reset 'cursor' to the beginning of the string"
   ]
  },
  {
   "cell_type": "code",
   "execution_count": 14,
   "id": "1dd4e1fd-061b-40d4-b644-c2e8f27a5f3b",
   "metadata": {},
   "outputs": [],
   "source": [
    "contents = myfile.read()"
   ]
  },
  {
   "cell_type": "code",
   "execution_count": 15,
   "id": "aad3761d-d4d3-422b-b275-8799a6824d03",
   "metadata": {},
   "outputs": [
    {
     "data": {
      "text/plain": [
       "'Hello this is a text file\\nsecond line\\nthird line\\n'"
      ]
     },
     "execution_count": 15,
     "metadata": {},
     "output_type": "execute_result"
    }
   ],
   "source": [
    "contents"
   ]
  },
  {
   "cell_type": "code",
   "execution_count": 20,
   "id": "0ebc26d7-2b84-4590-a894-48cc92830e53",
   "metadata": {},
   "outputs": [
    {
     "data": {
      "text/plain": [
       "0"
      ]
     },
     "execution_count": 20,
     "metadata": {},
     "output_type": "execute_result"
    }
   ],
   "source": [
    "myfile.seek(0)"
   ]
  },
  {
   "cell_type": "code",
   "execution_count": 21,
   "id": "31e8663f-a179-4363-b018-65ff6ccad653",
   "metadata": {},
   "outputs": [
    {
     "data": {
      "text/plain": [
       "['Hello this is a text file\\n', 'second line\\n', 'third line\\n']"
      ]
     },
     "execution_count": 21,
     "metadata": {},
     "output_type": "execute_result"
    }
   ],
   "source": [
    "myfile.readlines() # Return a list where each element is a line"
   ]
  },
  {
   "cell_type": "markdown",
   "id": "be862b4c-394d-492d-b7b5-32a42a01823f",
   "metadata": {},
   "source": [
    "## File Locations\n",
    "\n",
    "To open files from another location, pass the entire filepath"
   ]
  },
  {
   "cell_type": "code",
   "execution_count": 24,
   "id": "920540bb-869e-40da-8fb0-25097a4350ef",
   "metadata": {},
   "outputs": [],
   "source": [
    "with open('myfile.txt') as my_new_file: # Don't have to use seek() method this way\n",
    "    contents = my_new_file.read()"
   ]
  },
  {
   "cell_type": "code",
   "execution_count": 23,
   "id": "d7bbeec4-9466-4bc9-a034-01f4f572fc5c",
   "metadata": {},
   "outputs": [
    {
     "data": {
      "text/plain": [
       "'Hello this is a text file\\nsecond line\\nthird line\\n'"
      ]
     },
     "execution_count": 23,
     "metadata": {},
     "output_type": "execute_result"
    }
   ],
   "source": [
    "contents"
   ]
  },
  {
   "cell_type": "code",
   "execution_count": 25,
   "id": "a47c3863-4340-4735-95f4-fdddf1b5e578",
   "metadata": {},
   "outputs": [],
   "source": [
    "with open('myfile.txt',mode='r') as myfile:\n",
    "    contents = myfile.read()"
   ]
  },
  {
   "cell_type": "code",
   "execution_count": 26,
   "id": "7873593e-0078-4e6f-924f-ed01826fab39",
   "metadata": {},
   "outputs": [
    {
     "data": {
      "text/plain": [
       "'Hello this is a text file\\nsecond line\\nthird line\\n'"
      ]
     },
     "execution_count": 26,
     "metadata": {},
     "output_type": "execute_result"
    }
   ],
   "source": [
    "contents"
   ]
  },
  {
   "cell_type": "markdown",
   "id": "fcf44320-87a7-42a0-9f32-7af012fbaf84",
   "metadata": {},
   "source": [
    "## Reading, Writing, Appending Modes\n",
    "\n",
    "- **mode='r'** is read only\n",
    "- **mode='w'** is write only (will overwrite or create new)\n",
    "- **mode='a'** is append only (will add on to files)\n",
    "- **mode='r+'** is reading and writing\n",
    "- **mode='w+'** is writing and reading (overwrite files or creat a new file)"
   ]
  },
  {
   "cell_type": "code",
   "execution_count": 28,
   "id": "6abacde9-8513-444f-99fc-bb7dd32b8708",
   "metadata": {},
   "outputs": [
    {
     "name": "stdout",
     "output_type": "stream",
     "text": [
      "Writing my_new_file.txt\n"
     ]
    }
   ],
   "source": [
    "%%writefile my_new_file.txt\n",
    "Hello this is a text file\n",
    "second line\n",
    "third line"
   ]
  },
  {
   "cell_type": "code",
   "execution_count": 29,
   "id": "b3db2cc2-a7e3-4352-b585-b89e83ea4559",
   "metadata": {},
   "outputs": [
    {
     "name": "stdout",
     "output_type": "stream",
     "text": [
      "Hello this is a text file\n",
      "second line\n",
      "third line\n",
      "\n"
     ]
    }
   ],
   "source": [
    "with open('my_new_file.txt',mode='r') as f:\n",
    "    print(f.read())"
   ]
  },
  {
   "cell_type": "code",
   "execution_count": 30,
   "id": "532dc873-fb1f-4581-8b03-d99c90aee6b8",
   "metadata": {},
   "outputs": [],
   "source": [
    "with open('my_new_file.txt',mode='a') as f:\n",
    "    f.write('four on fourth')"
   ]
  },
  {
   "cell_type": "code",
   "execution_count": 31,
   "id": "013f4e45-5e14-407a-bd6a-8f8f21458390",
   "metadata": {},
   "outputs": [
    {
     "name": "stdout",
     "output_type": "stream",
     "text": [
      "Hello this is a text file\n",
      "second line\n",
      "third line\n",
      "four on fourth\n"
     ]
    }
   ],
   "source": [
    "with open('my_new_file.txt',mode='r') as f:\n",
    "    print(f.read())"
   ]
  },
  {
   "cell_type": "code",
   "execution_count": 32,
   "id": "55b68987-bd3b-4e50-8cfe-8225ea7187c1",
   "metadata": {},
   "outputs": [],
   "source": [
    "with open('asdkfha.txt', mode='w') as f:\n",
    "    f.write('I made this file')"
   ]
  },
  {
   "cell_type": "code",
   "execution_count": 33,
   "id": "69fbddbe-63e9-4436-96f6-45453aaf294a",
   "metadata": {},
   "outputs": [
    {
     "name": "stdout",
     "output_type": "stream",
     "text": [
      "I made this file\n"
     ]
    }
   ],
   "source": [
    "with open('asdkfha.txt',mode='r') as f:\n",
    "    print(f.read())"
   ]
  },
  {
   "cell_type": "code",
   "execution_count": null,
   "id": "6a22877b-3479-46e2-84c7-e09072ffcc81",
   "metadata": {},
   "outputs": [],
   "source": []
  }
 ],
 "metadata": {
  "kernelspec": {
   "display_name": "Python 3 (ipykernel)",
   "language": "python",
   "name": "python3"
  },
  "language_info": {
   "codemirror_mode": {
    "name": "ipython",
    "version": 3
   },
   "file_extension": ".py",
   "mimetype": "text/x-python",
   "name": "python",
   "nbconvert_exporter": "python",
   "pygments_lexer": "ipython3",
   "version": "3.12.7"
  }
 },
 "nbformat": 4,
 "nbformat_minor": 5
}
