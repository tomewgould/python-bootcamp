{
 "cells": [
  {
   "cell_type": "markdown",
   "id": "169e3de2-b195-45ab-a708-a98cecf5875a",
   "metadata": {},
   "source": [
    "# Strings\n",
    "\n",
    "As strings are ordered sequences we can use indexing and slicing to grab sub-sections of the string.\n",
    "\n",
    "Indexing notation uses [] notation after the string.\n",
    "\n",
    "Indexing allows you to grab a single char from the string with base 0.\n",
    "\n",
    "Slicing allows you to grab a subsection of multiple chars."
   ]
  },
  {
   "cell_type": "code",
   "execution_count": 1,
   "id": "57e4b1fd-1061-440f-bf6a-1d8c1cfae914",
   "metadata": {},
   "outputs": [
    {
     "data": {
      "text/plain": [
       "'hello'"
      ]
     },
     "execution_count": 1,
     "metadata": {},
     "output_type": "execute_result"
    }
   ],
   "source": [
    "'hello'"
   ]
  },
  {
   "cell_type": "code",
   "execution_count": 2,
   "id": "438556d8-11b2-476b-876e-9cfcd08566f8",
   "metadata": {},
   "outputs": [
    {
     "data": {
      "text/plain": [
       "'team'"
      ]
     },
     "execution_count": 2,
     "metadata": {},
     "output_type": "execute_result"
    }
   ],
   "source": [
    "\"team\""
   ]
  },
  {
   "cell_type": "code",
   "execution_count": 3,
   "id": "f8be9d43-c4ab-4dc0-b329-33d5052e16d3",
   "metadata": {},
   "outputs": [
    {
     "data": {
      "text/plain": [
       "'this is also a string'"
      ]
     },
     "execution_count": 3,
     "metadata": {},
     "output_type": "execute_result"
    }
   ],
   "source": [
    "'this is also a string'"
   ]
  },
  {
   "cell_type": "code",
   "execution_count": 4,
   "id": "62f84199-6baa-4e2f-bab1-cc8e3d0a4e31",
   "metadata": {},
   "outputs": [
    {
     "data": {
      "text/plain": [
       "\" I'll use double quotes to handle apostrophes \""
      ]
     },
     "execution_count": 4,
     "metadata": {},
     "output_type": "execute_result"
    }
   ],
   "source": [
    "\" I'll use double quotes to handle apostrophes \""
   ]
  },
  {
   "cell_type": "code",
   "execution_count": 5,
   "id": "0ae2d888-2654-4349-9ce1-f7433bb15dcf",
   "metadata": {},
   "outputs": [
    {
     "name": "stdout",
     "output_type": "stream",
     "text": [
      "let's go\n"
     ]
    }
   ],
   "source": [
    "print(\"let's go\") # using print removes the quotes"
   ]
  },
  {
   "cell_type": "code",
   "execution_count": 7,
   "id": "84dddbdd-0de8-42db-bea8-be493d066905",
   "metadata": {},
   "outputs": [
    {
     "name": "stdout",
     "output_type": "stream",
     "text": [
      "let's \n",
      "go\n"
     ]
    }
   ],
   "source": [
    "print(\"let's \\ngo\") # \\n is a newline"
   ]
  },
  {
   "cell_type": "code",
   "execution_count": 9,
   "id": "f9b99d5e-dd64-4c27-ba6d-ac7e6d7c2fa4",
   "metadata": {},
   "outputs": [
    {
     "data": {
      "text/plain": [
       "5"
      ]
     },
     "execution_count": 9,
     "metadata": {},
     "output_type": "execute_result"
    }
   ],
   "source": [
    "len('hello') # use len to find length of a string"
   ]
  },
  {
   "cell_type": "markdown",
   "id": "ed1e1ebe-70e2-4b32-97a1-22aca0bb4f43",
   "metadata": {},
   "source": [
    "Indexing and Slicing Strings"
   ]
  },
  {
   "cell_type": "code",
   "execution_count": 10,
   "id": "8b77b9bb-18e5-41dd-819b-d66658eec15f",
   "metadata": {},
   "outputs": [],
   "source": [
    "mystring = \"Lets Go\""
   ]
  },
  {
   "cell_type": "code",
   "execution_count": 11,
   "id": "b3f9681a-3cf5-4136-bb5a-d8568b5c8ca6",
   "metadata": {},
   "outputs": [
    {
     "data": {
      "text/plain": [
       "'Lets Go'"
      ]
     },
     "execution_count": 11,
     "metadata": {},
     "output_type": "execute_result"
    }
   ],
   "source": [
    "mystring"
   ]
  },
  {
   "cell_type": "code",
   "execution_count": 12,
   "id": "fc642445-097f-42b0-9440-bf564c57979f",
   "metadata": {},
   "outputs": [
    {
     "data": {
      "text/plain": [
       "'L'"
      ]
     },
     "execution_count": 12,
     "metadata": {},
     "output_type": "execute_result"
    }
   ],
   "source": [
    "mystring[0] # Pull out the first character"
   ]
  },
  {
   "cell_type": "code",
   "execution_count": 13,
   "id": "c6feb887-00bc-48f0-a0d8-3bd922f1a456",
   "metadata": {},
   "outputs": [
    {
     "data": {
      "text/plain": [
       "'G'"
      ]
     },
     "execution_count": 13,
     "metadata": {},
     "output_type": "execute_result"
    }
   ],
   "source": [
    "mystring[5]"
   ]
  },
  {
   "cell_type": "code",
   "execution_count": 16,
   "id": "1e79ca85-ef88-4e8b-8c9c-30f87051a93f",
   "metadata": {},
   "outputs": [
    {
     "data": {
      "text/plain": [
       "'G'"
      ]
     },
     "execution_count": 16,
     "metadata": {},
     "output_type": "execute_result"
    }
   ],
   "source": [
    "mystring[-2] # Use positive or negative indexing"
   ]
  },
  {
   "cell_type": "code",
   "execution_count": 17,
   "id": "43a28de0-8247-4085-9034-08b9a516f9a7",
   "metadata": {},
   "outputs": [],
   "source": [
    "mystring = 'abcdefghijk'"
   ]
  },
  {
   "cell_type": "code",
   "execution_count": 18,
   "id": "56c4588a-cd2b-445a-95e0-fb5a490ce219",
   "metadata": {},
   "outputs": [
    {
     "data": {
      "text/plain": [
       "'abcdefghijk'"
      ]
     },
     "execution_count": 18,
     "metadata": {},
     "output_type": "execute_result"
    }
   ],
   "source": [
    "mystring"
   ]
  },
  {
   "cell_type": "code",
   "execution_count": 19,
   "id": "5f937d26-de53-4bb5-b1a9-e0f3b949f7fd",
   "metadata": {},
   "outputs": [
    {
     "data": {
      "text/plain": [
       "'cdefghijk'"
      ]
     },
     "execution_count": 19,
     "metadata": {},
     "output_type": "execute_result"
    }
   ],
   "source": [
    "mystring[2:] # Slice string from index 2 to the end"
   ]
  },
  {
   "cell_type": "code",
   "execution_count": 24,
   "id": "54fb67cf-b011-4428-88c8-349f1803b5f7",
   "metadata": {},
   "outputs": [
    {
     "data": {
      "text/plain": [
       "'abc'"
      ]
     },
     "execution_count": 24,
     "metadata": {},
     "output_type": "execute_result"
    }
   ],
   "source": [
    "mystring[:3] # Slice string from beginning to index 3 (non-inclusive)"
   ]
  },
  {
   "cell_type": "code",
   "execution_count": 21,
   "id": "022e9e3e-305d-4a71-9a37-1330be1d14d1",
   "metadata": {},
   "outputs": [
    {
     "data": {
      "text/plain": [
       "'def'"
      ]
     },
     "execution_count": 21,
     "metadata": {},
     "output_type": "execute_result"
    }
   ],
   "source": [
    "mystring[3:6] # Slice string from index 3 to index 6"
   ]
  },
  {
   "cell_type": "markdown",
   "id": "1d09ac72-ad35-4aaa-b66b-ae964dda86a7",
   "metadata": {},
   "source": [
    "Step size"
   ]
  },
  {
   "cell_type": "code",
   "execution_count": 22,
   "id": "6fa181dc-e374-4d59-b023-7e6a3f8b3a87",
   "metadata": {},
   "outputs": [
    {
     "data": {
      "text/plain": [
       "'acegik'"
      ]
     },
     "execution_count": 22,
     "metadata": {},
     "output_type": "execute_result"
    }
   ],
   "source": [
    "mystring[::2] # Slice entire string but in steps of 2"
   ]
  },
  {
   "cell_type": "code",
   "execution_count": 23,
   "id": "744f06ab-2617-4680-8693-f40e2932ad85",
   "metadata": {},
   "outputs": [
    {
     "data": {
      "text/plain": [
       "'kjihgfedcba'"
      ]
     },
     "execution_count": 23,
     "metadata": {},
     "output_type": "execute_result"
    }
   ],
   "source": [
    "mystring[::-1] # This reverses the string: From the beginning to the end of the string take a backwards step"
   ]
  },
  {
   "cell_type": "markdown",
   "id": "15a32367-73aa-434b-a225-0f33f32b7e36",
   "metadata": {},
   "source": [
    "# String Properties and Methods\n",
    "\n"
   ]
  },
  {
   "cell_type": "markdown",
   "id": "e18dab7c-495c-4f54-8bc8-13bbcdf78848",
   "metadata": {},
   "source": [
    "## Immutability\n",
    "\n",
    "This means that you can't use indexing to change the individual elements of a string"
   ]
  },
  {
   "cell_type": "code",
   "execution_count": 25,
   "id": "f31c1eb6-62bd-49f4-b83d-c672b6ab889d",
   "metadata": {},
   "outputs": [],
   "source": [
    "name = 'Tom'"
   ]
  },
  {
   "cell_type": "code",
   "execution_count": 26,
   "id": "9ae0131a-0f29-4b86-a39d-8018de5c835b",
   "metadata": {},
   "outputs": [
    {
     "ename": "TypeError",
     "evalue": "'str' object does not support item assignment",
     "output_type": "error",
     "traceback": [
      "\u001b[1;31m---------------------------------------------------------------------------\u001b[0m",
      "\u001b[1;31mTypeError\u001b[0m                                 Traceback (most recent call last)",
      "Cell \u001b[1;32mIn[26], line 1\u001b[0m\n\u001b[1;32m----> 1\u001b[0m name[\u001b[38;5;241m0\u001b[39m] \u001b[38;5;241m=\u001b[39m \u001b[38;5;124m'\u001b[39m\u001b[38;5;124mD\u001b[39m\u001b[38;5;124m'\u001b[39m\n",
      "\u001b[1;31mTypeError\u001b[0m: 'str' object does not support item assignment"
     ]
    }
   ],
   "source": [
    "# name[0] = 'D' - We can not reassign the first character of name variable this way"
   ]
  },
  {
   "cell_type": "code",
   "execution_count": 28,
   "id": "839b46de-81f2-4837-aece-ab6fd0ff0755",
   "metadata": {},
   "outputs": [],
   "source": [
    "last_letters = name[1:]"
   ]
  },
  {
   "cell_type": "code",
   "execution_count": 29,
   "id": "e2d20985-dd78-4c98-81cf-b8eb5fcff146",
   "metadata": {},
   "outputs": [
    {
     "data": {
      "text/plain": [
       "'om'"
      ]
     },
     "execution_count": 29,
     "metadata": {},
     "output_type": "execute_result"
    }
   ],
   "source": [
    "last_letters"
   ]
  },
  {
   "cell_type": "code",
   "execution_count": 30,
   "id": "19c05520-9e42-4192-af91-49f3ac3bacb3",
   "metadata": {},
   "outputs": [
    {
     "data": {
      "text/plain": [
       "'Dom'"
      ]
     },
     "execution_count": 30,
     "metadata": {},
     "output_type": "execute_result"
    }
   ],
   "source": [
    "'D' + last_letters"
   ]
  },
  {
   "cell_type": "code",
   "execution_count": 31,
   "id": "df52b1fc-8ba2-446c-8669-dc5d36d0283d",
   "metadata": {},
   "outputs": [],
   "source": [
    "x = 'Hello World'"
   ]
  },
  {
   "cell_type": "code",
   "execution_count": 32,
   "id": "5c23085f-640d-45ae-9a34-c7007619c3b8",
   "metadata": {},
   "outputs": [
    {
     "data": {
      "text/plain": [
       "'Hello World it is beautiful outside'"
      ]
     },
     "execution_count": 32,
     "metadata": {},
     "output_type": "execute_result"
    }
   ],
   "source": [
    "x + ' it is beautiful outside'"
   ]
  },
  {
   "cell_type": "code",
   "execution_count": 33,
   "id": "e698ab77-318b-4e18-9c78-4f9f5175c169",
   "metadata": {},
   "outputs": [],
   "source": [
    "x = x + ' it is beautiful outside'"
   ]
  },
  {
   "cell_type": "code",
   "execution_count": 34,
   "id": "75488184-3aa2-496e-8048-8d5863939c1d",
   "metadata": {},
   "outputs": [
    {
     "data": {
      "text/plain": [
       "'Hello World it is beautiful outside'"
      ]
     },
     "execution_count": 34,
     "metadata": {},
     "output_type": "execute_result"
    }
   ],
   "source": [
    "x"
   ]
  },
  {
   "cell_type": "code",
   "execution_count": 1,
   "id": "3ca3afa4-7882-429b-aa3d-113b21402ff0",
   "metadata": {},
   "outputs": [],
   "source": [
    "letter = 'z'"
   ]
  },
  {
   "cell_type": "code",
   "execution_count": 7,
   "id": "7b099587-8271-4c56-b79a-09142ddfaf44",
   "metadata": {},
   "outputs": [
    {
     "data": {
      "text/plain": [
       "'zzzzzzzzzz'"
      ]
     },
     "execution_count": 7,
     "metadata": {},
     "output_type": "execute_result"
    }
   ],
   "source": [
    "letter * 10 # Multiply strings"
   ]
  },
  {
   "cell_type": "markdown",
   "id": "f2bc7d8b-f1a3-4690-91d4-40f98473f444",
   "metadata": {},
   "source": [
    "## String methods"
   ]
  },
  {
   "cell_type": "code",
   "execution_count": 5,
   "id": "e55b03ab-6c68-4006-a283-3549da39cf3e",
   "metadata": {},
   "outputs": [],
   "source": [
    "x = 'Hello world'"
   ]
  },
  {
   "cell_type": "code",
   "execution_count": 8,
   "id": "2944fb9b-e338-4581-a1bf-0b8daec5bedd",
   "metadata": {},
   "outputs": [
    {
     "data": {
      "text/plain": [
       "'HELLO WORLD'"
      ]
     },
     "execution_count": 8,
     "metadata": {},
     "output_type": "execute_result"
    }
   ],
   "source": [
    "x.upper() # Apply uppercase to string variable x"
   ]
  },
  {
   "cell_type": "code",
   "execution_count": 9,
   "id": "01c7dfe2-b736-4617-9520-df6cfe221bf1",
   "metadata": {},
   "outputs": [
    {
     "data": {
      "text/plain": [
       "'hello world'"
      ]
     },
     "execution_count": 9,
     "metadata": {},
     "output_type": "execute_result"
    }
   ],
   "source": [
    "x.lower()"
   ]
  },
  {
   "cell_type": "code",
   "execution_count": 10,
   "id": "0b9e5c6b-44d5-4e4c-ab93-bfb2001fac4a",
   "metadata": {},
   "outputs": [
    {
     "data": {
      "text/plain": [
       "['Hello', 'world']"
      ]
     },
     "execution_count": 10,
     "metadata": {},
     "output_type": "execute_result"
    }
   ],
   "source": [
    "x.split() # Split a string to a last based on a delimiter (whitespace default)"
   ]
  },
  {
   "cell_type": "code",
   "execution_count": 12,
   "id": "ef17d195-c557-4ad4-8c3f-552432bbf453",
   "metadata": {},
   "outputs": [
    {
     "data": {
      "text/plain": [
       "['He', '', 'o wor', 'd']"
      ]
     },
     "execution_count": 12,
     "metadata": {},
     "output_type": "execute_result"
    }
   ],
   "source": [
    "x.split('l')"
   ]
  },
  {
   "cell_type": "code",
   "execution_count": 13,
   "id": "9947d341-79ab-4881-a9f3-835b3d22b0a5",
   "metadata": {},
   "outputs": [],
   "source": [
    "# String interpolation = Stick a variable into a string"
   ]
  },
  {
   "cell_type": "markdown",
   "id": "0584d134-a199-4f7b-b094-41fa59faa3ad",
   "metadata": {},
   "source": [
    "### Formatting with the .format() method\n",
    "\n",
    "Allows you to format objects into strings for print statements\n",
    "\n",
    "**'String here {} then also {}'.format('something1','something2')**"
   ]
  },
  {
   "cell_type": "code",
   "execution_count": 14,
   "id": "ccc96ff3-65cf-484c-9a1f-8e1b87189a57",
   "metadata": {},
   "outputs": [
    {
     "name": "stdout",
     "output_type": "stream",
     "text": [
      "This is a string INSERTED\n"
     ]
    }
   ],
   "source": [
    "print('This is a string {}'.format('INSERTED'))"
   ]
  },
  {
   "cell_type": "code",
   "execution_count": 17,
   "id": "53a0cab2-357e-491e-8f0a-0434928696d0",
   "metadata": {},
   "outputs": [
    {
     "name": "stdout",
     "output_type": "stream",
     "text": [
      "The quick brown fox\n"
     ]
    }
   ],
   "source": [
    "print('The {2} {1} {0}'.format('fox','brown','quick'))  # Strings can be inserted through index position"
   ]
  },
  {
   "cell_type": "code",
   "execution_count": 18,
   "id": "95436239-3735-4896-9ace-7f74b68af851",
   "metadata": {},
   "outputs": [
    {
     "name": "stdout",
     "output_type": "stream",
     "text": [
      "The quick brown fox\n"
     ]
    }
   ],
   "source": [
    "print('The {q} {b} {f}'.format(f='fox',b='brown',q='quick')) # Use variable assignments to improve clarity"
   ]
  },
  {
   "cell_type": "markdown",
   "id": "d73dc84e-0eb7-443b-b9d6-e5f5fb18aae7",
   "metadata": {},
   "source": [
    "**Float formatting follows \"{value:width.precision *f*}\"**"
   ]
  },
  {
   "cell_type": "code",
   "execution_count": 19,
   "id": "20ac5920-db47-4efe-b441-0b7da275758c",
   "metadata": {},
   "outputs": [],
   "source": [
    "result = 100/777"
   ]
  },
  {
   "cell_type": "code",
   "execution_count": 20,
   "id": "72997ca3-606e-4f4f-9ba3-3bcbd036b2a4",
   "metadata": {},
   "outputs": [
    {
     "data": {
      "text/plain": [
       "0.1287001287001287"
      ]
     },
     "execution_count": 20,
     "metadata": {},
     "output_type": "execute_result"
    }
   ],
   "source": [
    "result"
   ]
  },
  {
   "cell_type": "code",
   "execution_count": 22,
   "id": "e36b2470-d5e4-4889-96bd-619e690329be",
   "metadata": {},
   "outputs": [
    {
     "name": "stdout",
     "output_type": "stream",
     "text": [
      "The result was 0.1287001287001287\n"
     ]
    }
   ],
   "source": [
    "print(\"The result was {r}\".format(r=result))"
   ]
  },
  {
   "cell_type": "code",
   "execution_count": 27,
   "id": "657f2975-7d05-4431-81f4-deee6223d9e7",
   "metadata": {},
   "outputs": [
    {
     "name": "stdout",
     "output_type": "stream",
     "text": [
      "The result was 0.12870\n"
     ]
    }
   ],
   "source": [
    "print(\"The result was {r:1.5f}\".format(r=result)) # Width is the whitespace in the resulting string"
   ]
  },
  {
   "cell_type": "markdown",
   "id": "9a7f6e7b-f402-4223-8243-90f160d70c84",
   "metadata": {},
   "source": [
    "**String literals**"
   ]
  },
  {
   "cell_type": "code",
   "execution_count": 28,
   "id": "0871521d-f6ec-4897-bf95-ba618241f9b3",
   "metadata": {},
   "outputs": [],
   "source": [
    "name = \"Jose\""
   ]
  },
  {
   "cell_type": "code",
   "execution_count": 29,
   "id": "dd47b679-f9ca-472e-bf7e-f0687ed26ce0",
   "metadata": {},
   "outputs": [
    {
     "name": "stdout",
     "output_type": "stream",
     "text": [
      "Hello, his name is Jose\n"
     ]
    }
   ],
   "source": [
    "print('Hello, his name is {}'.format(name)) # Standard float formatting"
   ]
  },
  {
   "cell_type": "code",
   "execution_count": 30,
   "id": "78654827-19e6-477c-9efa-85fe19794183",
   "metadata": {},
   "outputs": [
    {
     "name": "stdout",
     "output_type": "stream",
     "text": [
      "Hello, his name is Jose\n"
     ]
    }
   ],
   "source": [
    "print(f'Hello, his name is {name}') # Formatted string literals"
   ]
  },
  {
   "cell_type": "code",
   "execution_count": 31,
   "id": "6b45a86d-46a6-4767-8014-f3bc33eeb4bb",
   "metadata": {},
   "outputs": [],
   "source": [
    "name = \"Tom\"\n",
    "age = 25"
   ]
  },
  {
   "cell_type": "code",
   "execution_count": 32,
   "id": "7cdc60a7-d8ad-4726-a406-4e2e90e3d64d",
   "metadata": {},
   "outputs": [
    {
     "name": "stdout",
     "output_type": "stream",
     "text": [
      "Tom is 25 years old.\n"
     ]
    }
   ],
   "source": [
    "print(f'{name} is {age} years old.')"
   ]
  },
  {
   "cell_type": "code",
   "execution_count": null,
   "id": "d5fe14fb-1250-4aea-b0e6-d350d825c2ff",
   "metadata": {},
   "outputs": [],
   "source": []
  }
 ],
 "metadata": {
  "kernelspec": {
   "display_name": "Python 3 (ipykernel)",
   "language": "python",
   "name": "python3"
  },
  "language_info": {
   "codemirror_mode": {
    "name": "ipython",
    "version": 3
   },
   "file_extension": ".py",
   "mimetype": "text/x-python",
   "name": "python",
   "nbconvert_exporter": "python",
   "pygments_lexer": "ipython3",
   "version": "3.12.7"
  }
 },
 "nbformat": 4,
 "nbformat_minor": 5
}
