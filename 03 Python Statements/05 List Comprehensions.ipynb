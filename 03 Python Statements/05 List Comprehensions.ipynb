{
 "cells": [
  {
   "cell_type": "markdown",
   "id": "f2be09d3-1f02-4ae6-88fd-06c370ab16a7",
   "metadata": {},
   "source": [
    "# 04 List Comprehensions\n",
    "\n",
    "More efficient way of creating lists"
   ]
  },
  {
   "cell_type": "code",
   "execution_count": 1,
   "id": "6418067d-faa9-4827-aa33-aaaada527557",
   "metadata": {},
   "outputs": [],
   "source": [
    "mystring = 'morning'"
   ]
  },
  {
   "cell_type": "code",
   "execution_count": 4,
   "id": "21ea7179-b712-4492-8a68-d270f1728779",
   "metadata": {},
   "outputs": [],
   "source": [
    "#append method\n",
    "\n",
    "mylist = []\n",
    "\n",
    "for letter in mystring:\n",
    "    mylist.append(letter)"
   ]
  },
  {
   "cell_type": "code",
   "execution_count": 3,
   "id": "a5a51719-8f37-47c5-a347-482cd5e1ae23",
   "metadata": {},
   "outputs": [
    {
     "data": {
      "text/plain": [
       "['m', 'o', 'r', 'n', 'i', 'n', 'g']"
      ]
     },
     "execution_count": 3,
     "metadata": {},
     "output_type": "execute_result"
    }
   ],
   "source": [
    "mylist"
   ]
  },
  {
   "cell_type": "code",
   "execution_count": 5,
   "id": "75202a79-d7eb-4794-977d-a9fff5565640",
   "metadata": {},
   "outputs": [],
   "source": [
    "#comprehensions method\n",
    "\n",
    "mylist = [letter for letter in mystring]"
   ]
  },
  {
   "cell_type": "code",
   "execution_count": 6,
   "id": "6cac5e8c-a65b-4026-91c7-3c2f8bad11d5",
   "metadata": {},
   "outputs": [
    {
     "data": {
      "text/plain": [
       "['m', 'o', 'r', 'n', 'i', 'n', 'g']"
      ]
     },
     "execution_count": 6,
     "metadata": {},
     "output_type": "execute_result"
    }
   ],
   "source": [
    "mylist"
   ]
  },
  {
   "cell_type": "code",
   "execution_count": 7,
   "id": "d1d0cc03-de42-4aac-85e8-21667bd627f8",
   "metadata": {},
   "outputs": [],
   "source": [
    "mylist = [x for x in 'word']"
   ]
  },
  {
   "cell_type": "code",
   "execution_count": 8,
   "id": "1cd46542-3600-4b5e-8216-b3942c74cad5",
   "metadata": {},
   "outputs": [
    {
     "data": {
      "text/plain": [
       "['w', 'o', 'r', 'd']"
      ]
     },
     "execution_count": 8,
     "metadata": {},
     "output_type": "execute_result"
    }
   ],
   "source": [
    "mylist"
   ]
  },
  {
   "cell_type": "code",
   "execution_count": 9,
   "id": "0586d9ed-50fd-426d-ab49-be5b2b9aa438",
   "metadata": {},
   "outputs": [],
   "source": [
    "mylist = [abc for abc in 'wordtwo']"
   ]
  },
  {
   "cell_type": "code",
   "execution_count": 10,
   "id": "59acf8dc-ea34-4998-bbde-5ff7e1b498db",
   "metadata": {},
   "outputs": [
    {
     "data": {
      "text/plain": [
       "['w', 'o', 'r', 'd', 't', 'w', 'o']"
      ]
     },
     "execution_count": 10,
     "metadata": {},
     "output_type": "execute_result"
    }
   ],
   "source": [
    "mylist"
   ]
  },
  {
   "cell_type": "code",
   "execution_count": 11,
   "id": "6c050210-e9e6-41d3-97dc-5553d6fd239a",
   "metadata": {},
   "outputs": [],
   "source": [
    "mylist = [num for num in range(0,11)]"
   ]
  },
  {
   "cell_type": "code",
   "execution_count": 12,
   "id": "71c307ed-b1c2-4c91-8cda-38a3a79e6886",
   "metadata": {},
   "outputs": [
    {
     "data": {
      "text/plain": [
       "[0, 1, 2, 3, 4, 5, 6, 7, 8, 9, 10]"
      ]
     },
     "execution_count": 12,
     "metadata": {},
     "output_type": "execute_result"
    }
   ],
   "source": [
    "mylist"
   ]
  },
  {
   "cell_type": "code",
   "execution_count": 13,
   "id": "884d85a9-49b9-471b-a64e-9474225fe018",
   "metadata": {},
   "outputs": [],
   "source": [
    "mylist = [num**2 for num in range(0,11)]"
   ]
  },
  {
   "cell_type": "code",
   "execution_count": 14,
   "id": "0a3b2d58-befb-4da5-8c9f-8269f55b0a09",
   "metadata": {},
   "outputs": [
    {
     "data": {
      "text/plain": [
       "[0, 1, 4, 9, 16, 25, 36, 49, 64, 81, 100]"
      ]
     },
     "execution_count": 14,
     "metadata": {},
     "output_type": "execute_result"
    }
   ],
   "source": [
    "mylist"
   ]
  },
  {
   "cell_type": "code",
   "execution_count": 19,
   "id": "caf6414e-98e8-47c0-8e97-79421b568fa8",
   "metadata": {},
   "outputs": [],
   "source": [
    "#combine with if statements\n",
    "\n",
    "mylist = [x**2 for x in range(0,11) if x%2 == 0] #return x**2 between 0-11 if x is even"
   ]
  },
  {
   "cell_type": "code",
   "execution_count": 18,
   "id": "38e462c8-7414-425e-b14c-505bb7f7c661",
   "metadata": {},
   "outputs": [
    {
     "data": {
      "text/plain": [
       "[0, 4, 16, 36, 64, 100]"
      ]
     },
     "execution_count": 18,
     "metadata": {},
     "output_type": "execute_result"
    }
   ],
   "source": [
    "mylist"
   ]
  },
  {
   "cell_type": "code",
   "execution_count": 25,
   "id": "0f54f956-2271-424e-b018-dfa753b65961",
   "metadata": {},
   "outputs": [],
   "source": [
    "#list comprehension vs loop\n",
    "\n",
    "celcius = [0,10,20,34.5]\n",
    "\n",
    "fahrenheit = [( (9/5)*temp + 32) for temp in celcius]"
   ]
  },
  {
   "cell_type": "code",
   "execution_count": 21,
   "id": "717bfa4f-49f9-4de4-8ef5-db7a31a95260",
   "metadata": {},
   "outputs": [
    {
     "data": {
      "text/plain": [
       "[32.0, 50.0, 68.0, 94.1]"
      ]
     },
     "execution_count": 21,
     "metadata": {},
     "output_type": "execute_result"
    }
   ],
   "source": [
    "fahrenheit"
   ]
  },
  {
   "cell_type": "code",
   "execution_count": 23,
   "id": "6acd9747-cd43-435f-9942-263a7b43338c",
   "metadata": {},
   "outputs": [],
   "source": [
    "fahrenheit = []\n",
    "\n",
    "for temp in celcius:\n",
    "    fahrenheit.append( (9/5)*temp + 32) #in a list comprehension we flatten this loop"
   ]
  },
  {
   "cell_type": "code",
   "execution_count": 24,
   "id": "145a07d1-66fc-4146-ba68-af2084bf6940",
   "metadata": {},
   "outputs": [
    {
     "data": {
      "text/plain": [
       "[32.0, 50.0, 68.0, 94.1]"
      ]
     },
     "execution_count": 24,
     "metadata": {},
     "output_type": "execute_result"
    }
   ],
   "source": [
    "fahrenheit"
   ]
  },
  {
   "cell_type": "code",
   "execution_count": 26,
   "id": "1253bd53-e869-42a2-a5cf-e298bbeb00b9",
   "metadata": {},
   "outputs": [],
   "source": [
    "#if and else statements in list comprehensions\n",
    "\n",
    "results = [x if x%2==0 else 'ODD' for x in range(0,11)]"
   ]
  },
  {
   "cell_type": "code",
   "execution_count": 27,
   "id": "5b2bd2ba-4830-4e36-a633-9879afcf5fd5",
   "metadata": {},
   "outputs": [
    {
     "data": {
      "text/plain": [
       "[0, 'ODD', 2, 'ODD', 4, 'ODD', 6, 'ODD', 8, 'ODD', 10]"
      ]
     },
     "execution_count": 27,
     "metadata": {},
     "output_type": "execute_result"
    }
   ],
   "source": [
    "results"
   ]
  },
  {
   "cell_type": "code",
   "execution_count": 31,
   "id": "fa652fd5-df0a-46fb-8113-a71b4c024ac6",
   "metadata": {},
   "outputs": [],
   "source": [
    "#nested loops in a list comprehension\n",
    "\n",
    "mylist = []\n",
    "\n",
    "for x in [2,4,6]:\n",
    "    for y in [1,10,100]:\n",
    "        mylist.append(x*y) # calculate for each combination of x and y"
   ]
  },
  {
   "cell_type": "code",
   "execution_count": 33,
   "id": "515e90f9-ff3d-4f48-900e-db1e24ec17f8",
   "metadata": {},
   "outputs": [
    {
     "data": {
      "text/plain": [
       "[2, 20, 200, 4, 40, 400, 6, 60, 600]"
      ]
     },
     "execution_count": 33,
     "metadata": {},
     "output_type": "execute_result"
    }
   ],
   "source": [
    "mylist"
   ]
  },
  {
   "cell_type": "code",
   "execution_count": 36,
   "id": "b5d7d8e2-b9be-4c17-bb63-697a187cbb34",
   "metadata": {},
   "outputs": [],
   "source": [
    "mylist = [x*y for x in [2,4,6] for y in [1,10,100]] # same output but less readable"
   ]
  },
  {
   "cell_type": "code",
   "execution_count": 37,
   "id": "76a1fb39-d04c-4935-b414-ae5bdca9707f",
   "metadata": {},
   "outputs": [
    {
     "data": {
      "text/plain": [
       "[2, 20, 200, 4, 40, 400, 6, 60, 600]"
      ]
     },
     "execution_count": 37,
     "metadata": {},
     "output_type": "execute_result"
    }
   ],
   "source": [
    "mylist"
   ]
  },
  {
   "cell_type": "code",
   "execution_count": null,
   "id": "e68871ee-f47e-4537-a5c6-046880210588",
   "metadata": {},
   "outputs": [],
   "source": []
  }
 ],
 "metadata": {
  "kernelspec": {
   "display_name": "Python 3 (ipykernel)",
   "language": "python",
   "name": "python3"
  },
  "language_info": {
   "codemirror_mode": {
    "name": "ipython",
    "version": 3
   },
   "file_extension": ".py",
   "mimetype": "text/x-python",
   "name": "python",
   "nbconvert_exporter": "python",
   "pygments_lexer": "ipython3",
   "version": "3.12.7"
  }
 },
 "nbformat": 4,
 "nbformat_minor": 5
}
