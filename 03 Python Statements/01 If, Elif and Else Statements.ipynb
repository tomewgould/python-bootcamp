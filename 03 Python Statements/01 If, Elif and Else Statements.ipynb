{
 "cells": [
  {
   "cell_type": "markdown",
   "id": "ea0eb4be-5bbf-43ed-af55-031efba111a2",
   "metadata": {},
   "source": [
    "# If,Elif and Else Statements\n",
    "\n",
    "**Control flow**\n",
    "\n",
    "- We often only want certain code to execute when a particular condition has been met\n",
    "  \n",
    "- Eg., **if** my dog is hungry (some condition), then I will feed the dog (some action)\n",
    "\n",
    "- if\n",
    "\n",
    "- elif\n",
    "\n",
    "- else"
   ]
  },
  {
   "cell_type": "markdown",
   "id": "003d7b51-31b0-46d1-983c-74f3e311762e",
   "metadata": {},
   "source": [
    "**Control flow syntax makes use of colons and indentations**"
   ]
  },
  {
   "cell_type": "code",
   "execution_count": 1,
   "id": "8d89ff7e-9f8b-4099-89a9-7522e30594e3",
   "metadata": {},
   "outputs": [
    {
     "ename": "IndentationError",
     "evalue": "expected an indented block after 'if' statement on line 1 (2439070683.py, line 3)",
     "output_type": "error",
     "traceback": [
      "\u001b[1;36m  Cell \u001b[1;32mIn[1], line 3\u001b[1;36m\u001b[0m\n\u001b[1;33m    elif some_other_condition\u001b[0m\n\u001b[1;37m    ^\u001b[0m\n\u001b[1;31mIndentationError\u001b[0m\u001b[1;31m:\u001b[0m expected an indented block after 'if' statement on line 1\n"
     ]
    }
   ],
   "source": [
    "if some_condition:\n",
    "    # execute some code\n",
    "elif some_other_condition\n",
    "    # execute some other code\n",
    "else:\n",
    "    #do something else"
   ]
  },
  {
   "cell_type": "code",
   "execution_count": 8,
   "id": "beb13308-2dd1-4b6c-b2e6-d427cfaf007d",
   "metadata": {},
   "outputs": [
    {
     "name": "stdout",
     "output_type": "stream",
     "text": [
      "FEED ME!\n"
     ]
    }
   ],
   "source": [
    "hungry = True # If we set hungry = false then the else expression will execute\n",
    "\n",
    "if hungry:\n",
    "    print('FEED ME!')\n",
    "else:\n",
    "    print('Im not hungry')"
   ]
  },
  {
   "cell_type": "code",
   "execution_count": 14,
   "id": "42a6b6d9-41c8-4c50-8d0e-5bb158dd6fd3",
   "metadata": {},
   "outputs": [
    {
     "name": "stdout",
     "output_type": "stream",
     "text": [
      "I like money\n"
     ]
    }
   ],
   "source": [
    "# Multiple branches\n",
    "loc = 'Bank'\n",
    "\n",
    "if loc == 'Auto Shop':\n",
    "    print(\"Cars!\")\n",
    "elif loc == 'Bank':\n",
    "    print(\"I like money\")\n",
    "elif loc == 'Store':\n",
    "    print(\"Welcome to the store!\")\n",
    "else:\n",
    "    print(\"I don't know\")"
   ]
  },
  {
   "cell_type": "code",
   "execution_count": 17,
   "id": "f01d18f8-60a1-4e0c-a85a-e7960a12b325",
   "metadata": {},
   "outputs": [
    {
     "name": "stdout",
     "output_type": "stream",
     "text": [
      "What is your name?\n"
     ]
    }
   ],
   "source": [
    "name = 'Tom'\n",
    "\n",
    "if name == 'Frankie':\n",
    "    print(\"Hello Frankie!\")\n",
    "elif name == 'Sammy':\n",
    "    print(\"Hello Sammy!\")\n",
    "else:\n",
    "    print(\"What is your name?\")"
   ]
  },
  {
   "cell_type": "code",
   "execution_count": null,
   "id": "9d445400-e657-43d6-87b0-0f34bd3ca583",
   "metadata": {},
   "outputs": [],
   "source": []
  }
 ],
 "metadata": {
  "kernelspec": {
   "display_name": "Python 3 (ipykernel)",
   "language": "python",
   "name": "python3"
  },
  "language_info": {
   "codemirror_mode": {
    "name": "ipython",
    "version": 3
   },
   "file_extension": ".py",
   "mimetype": "text/x-python",
   "name": "python",
   "nbconvert_exporter": "python",
   "pygments_lexer": "ipython3",
   "version": "3.12.7"
  }
 },
 "nbformat": 4,
 "nbformat_minor": 5
}
