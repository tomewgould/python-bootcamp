{
 "cells": [
  {
   "cell_type": "code",
   "execution_count": 1,
   "id": "9ea6a286-1b59-4800-a257-32e0e10b88ef",
   "metadata": {},
   "outputs": [
    {
     "data": {
      "text/plain": [
       "3"
      ]
     },
     "execution_count": 1,
     "metadata": {},
     "output_type": "execute_result"
    }
   ],
   "source": [
    "2+1"
   ]
  },
  {
   "cell_type": "code",
   "execution_count": 2,
   "id": "f31496fa-cd96-42d7-be05-b9911bc51f8e",
   "metadata": {},
   "outputs": [
    {
     "data": {
      "text/plain": [
       "1"
      ]
     },
     "execution_count": 2,
     "metadata": {},
     "output_type": "execute_result"
    }
   ],
   "source": [
    "2-1"
   ]
  },
  {
   "cell_type": "code",
   "execution_count": 3,
   "id": "42d1b73d-3b28-445d-9ba6-cde43ce16567",
   "metadata": {},
   "outputs": [
    {
     "data": {
      "text/plain": [
       "4"
      ]
     },
     "execution_count": 3,
     "metadata": {},
     "output_type": "execute_result"
    }
   ],
   "source": [
    "2*2"
   ]
  },
  {
   "cell_type": "code",
   "execution_count": 4,
   "id": "cac841d7-c587-45a2-b27e-dec89dd1a285",
   "metadata": {},
   "outputs": [
    {
     "data": {
      "text/plain": [
       "2.5"
      ]
     },
     "execution_count": 4,
     "metadata": {},
     "output_type": "execute_result"
    }
   ],
   "source": [
    "5/2"
   ]
  },
  {
   "cell_type": "code",
   "execution_count": 8,
   "id": "ee7f0c6f-da35-4645-84bd-1ff8e333a446",
   "metadata": {},
   "outputs": [
    {
     "data": {
      "text/plain": [
       "1.75"
      ]
     },
     "execution_count": 8,
     "metadata": {},
     "output_type": "execute_result"
    }
   ],
   "source": [
    "7/4"
   ]
  },
  {
   "cell_type": "markdown",
   "id": "14fc1658-6261-49b4-89ad-b61bf889bf0d",
   "metadata": {},
   "source": [
    "Mod operator returns the remainder when dividing\n",
    "Useful when checking if numbers are divisible"
   ]
  },
  {
   "cell_type": "code",
   "execution_count": 9,
   "id": "db8c276a-d317-4777-a233-ddfafba3a5d6",
   "metadata": {},
   "outputs": [
    {
     "data": {
      "text/plain": [
       "3"
      ]
     },
     "execution_count": 9,
     "metadata": {},
     "output_type": "execute_result"
    }
   ],
   "source": [
    "7 % 4"
   ]
  },
  {
   "cell_type": "markdown",
   "id": "f011f595-45b2-4c9a-af07-8ed4f5d6cb3d",
   "metadata": {},
   "source": [
    "Powers"
   ]
  },
  {
   "cell_type": "code",
   "execution_count": 10,
   "id": "98876c67-c1a9-44b8-95f9-35ee9c9a778c",
   "metadata": {},
   "outputs": [
    {
     "data": {
      "text/plain": [
       "8"
      ]
     },
     "execution_count": 10,
     "metadata": {},
     "output_type": "execute_result"
    }
   ],
   "source": [
    "2 ** 3"
   ]
  },
  {
   "cell_type": "markdown",
   "id": "d8b37d0a-efdc-43d5-98ab-805cc2b469d5",
   "metadata": {},
   "source": [
    "Order of Operations"
   ]
  },
  {
   "cell_type": "code",
   "execution_count": 11,
   "id": "b77de702-0ba1-42cc-b6e9-74f90536ee9f",
   "metadata": {},
   "outputs": [
    {
     "data": {
      "text/plain": [
       "105"
      ]
     },
     "execution_count": 11,
     "metadata": {},
     "output_type": "execute_result"
    }
   ],
   "source": [
    "2 + 10 * 10 + 3"
   ]
  },
  {
   "cell_type": "code",
   "execution_count": 19,
   "id": "9ce0c0ec-5ea5-4fca-b1ed-91ca044fc95b",
   "metadata": {},
   "outputs": [
    {
     "data": {
      "text/plain": [
       "156"
      ]
     },
     "execution_count": 19,
     "metadata": {},
     "output_type": "execute_result"
    }
   ],
   "source": [
    "(2+10) * (10 + 3)"
   ]
  },
  {
   "cell_type": "markdown",
   "id": "825907e5-d870-4787-bd03-5961236ad9d2",
   "metadata": {},
   "source": [
    "Assigning variables"
   ]
  },
  {
   "cell_type": "code",
   "execution_count": 14,
   "id": "b73f6212-f6a1-4a4c-afc2-37ce54f9d818",
   "metadata": {},
   "outputs": [],
   "source": [
    "a = 10"
   ]
  },
  {
   "cell_type": "code",
   "execution_count": 15,
   "id": "955f0179-aa4c-4ee8-9b23-990cff948048",
   "metadata": {},
   "outputs": [
    {
     "data": {
      "text/plain": [
       "10"
      ]
     },
     "execution_count": 15,
     "metadata": {},
     "output_type": "execute_result"
    }
   ],
   "source": [
    "a"
   ]
  },
  {
   "cell_type": "code",
   "execution_count": 16,
   "id": "5129eab4-0f84-422e-9812-efd89b696af6",
   "metadata": {},
   "outputs": [
    {
     "data": {
      "text/plain": [
       "20"
      ]
     },
     "execution_count": 16,
     "metadata": {},
     "output_type": "execute_result"
    }
   ],
   "source": [
    "a + a"
   ]
  },
  {
   "cell_type": "code",
   "execution_count": 17,
   "id": "ae74a9e7-9cb4-419d-9e23-2b7a9d41f641",
   "metadata": {},
   "outputs": [],
   "source": [
    "a = a + a"
   ]
  },
  {
   "cell_type": "code",
   "execution_count": 18,
   "id": "49fedbe7-bc2f-494d-b268-b94a8ef3ad51",
   "metadata": {},
   "outputs": [
    {
     "data": {
      "text/plain": [
       "20"
      ]
     },
     "execution_count": 18,
     "metadata": {},
     "output_type": "execute_result"
    }
   ],
   "source": [
    "a"
   ]
  },
  {
   "cell_type": "code",
   "execution_count": 20,
   "id": "057b7585-579f-4f44-8471-a0265541d122",
   "metadata": {},
   "outputs": [
    {
     "data": {
      "text/plain": [
       "int"
      ]
     },
     "execution_count": 20,
     "metadata": {},
     "output_type": "execute_result"
    }
   ],
   "source": [
    "type(a)"
   ]
  },
  {
   "cell_type": "code",
   "execution_count": 21,
   "id": "abc627c8-93e2-4b88-9e4e-7ac7a8fa7893",
   "metadata": {},
   "outputs": [],
   "source": [
    "a = 4.2"
   ]
  },
  {
   "cell_type": "code",
   "execution_count": 22,
   "id": "4f2cf0bd-7c94-47a0-9e73-db60cf55c73f",
   "metadata": {},
   "outputs": [
    {
     "data": {
      "text/plain": [
       "float"
      ]
     },
     "execution_count": 22,
     "metadata": {},
     "output_type": "execute_result"
    }
   ],
   "source": [
    "type(a)"
   ]
  },
  {
   "cell_type": "markdown",
   "id": "cb7baef1-d1aa-4180-aaca-9895cc3d265c",
   "metadata": {},
   "source": [
    "Restarting the kernel resets variables"
   ]
  },
  {
   "cell_type": "code",
   "execution_count": 26,
   "id": "8c1764a8-3f72-4baf-b1fb-5770631a0779",
   "metadata": {},
   "outputs": [],
   "source": [
    "income = 10000\n",
    "\n",
    "tax_rate = 0.1\n",
    "\n",
    "my_taxes = income * tax_rate"
   ]
  },
  {
   "cell_type": "code",
   "execution_count": 27,
   "id": "ecd7865f-362f-4ff8-bb06-fa179a9a68a1",
   "metadata": {},
   "outputs": [
    {
     "data": {
      "text/plain": [
       "1000.0"
      ]
     },
     "execution_count": 27,
     "metadata": {},
     "output_type": "execute_result"
    }
   ],
   "source": [
    "my_taxes"
   ]
  }
 ],
 "metadata": {
  "kernelspec": {
   "display_name": "Python 3 (ipykernel)",
   "language": "python",
   "name": "python3"
  },
  "language_info": {
   "codemirror_mode": {
    "name": "ipython",
    "version": 3
   },
   "file_extension": ".py",
   "mimetype": "text/x-python",
   "name": "python",
   "nbconvert_exporter": "python",
   "pygments_lexer": "ipython3",
   "version": "3.12.7"
  }
 },
 "nbformat": 4,
 "nbformat_minor": 5
}
